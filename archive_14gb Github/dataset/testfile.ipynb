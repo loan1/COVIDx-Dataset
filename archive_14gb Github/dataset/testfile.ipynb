{
 "cells": [
  {
   "cell_type": "code",
   "execution_count": 1,
   "metadata": {},
   "outputs": [],
   "source": [
    "#!/usr/bin/env python\n",
    "# coding: utf-8\n",
    "\n",
    "#importing the libraries\n",
    "import pandas as pd\n",
    "import numpy as np\n",
    "from sklearn.model_selection import train_test_split\n",
    "import numpy as np\n",
    "#tao duong dan den data\n",
    "train_path = '../dataset/train/'\n",
    "test_path = '../dataset/test/'\n",
    "\n",
    "#doc file metadata\n",
    "train_metadata = '../dataset/train.txt'\n",
    "test_metadata = '../dataset/test.txt'\n",
    "train_txt= pd.read_csv(train_metadata, sep=\" \", header=None)\n",
    "test_txt = pd.read_csv(test_metadata, sep=\" \", header=None)\n",
    "\n",
    "#gan ten cot\n",
    "train_txt.columns= [\"patient id\",\"file_name\",\"class\",\"source\"]\n",
    "\n",
    "#https://www.dataquest.io/blog/tutorial-add-column-pandas-dataframe-based-on-if-else-condition/\n",
    "train_txt['label'] = np.where(train_txt['class']== 'negative', 0, 1) #tao cot label theo dk cua class\n",
    "\n",
    "#chi lay cot filename va label (1,4)\n",
    "train_txt1 = train_txt.iloc[:,[1,4]]\n",
    "\n",
    "#gan ten cot tren file test\n",
    "test_txt.columns= [\"patient id\",\"file_name\",\"class\",\"source\"]\n",
    "\n",
    "test_txt['label'] = np.where(test_txt['class']== 'negative', 0, 1) #tao cot label theo dk cua class\n",
    "\n",
    "test_txt1 = test_txt.iloc[:,[1,4]]\n",
    "\n",
    "test_txt1.to_csv('../dataset/t.csv',index=False) \n",
    "\n",
    "#https://www.freecodecamp.org/news/python-write-to-file-open-read-append-and-other-file-handling-functions-explained/\n",
    "with open('../dataset/test_set.txt', 'w') as f:\n",
    "    f.write(\n",
    "        test_txt1.to_string(header = False, index = False)\n",
    "    )\n",
    "f.close()\n",
    "\n",
    "train_set,val_set=train_test_split(train_txt1,test_size=0.2, random_state = 42, shuffle=True)\n",
    "\n",
    "with open('../dataset/train_set.txt', 'w') as f:\n",
    "    f.write(\n",
    "        train_set.to_string(header = False, index = False)\n",
    "    )\n",
    "f.close()\n",
    "\n",
    "with open('../dataset/val_set.txt', 'w') as f:\n",
    "    f.write(\n",
    "        val_set.to_string(header = False, index = False)\n",
    "    )\n",
    "f.close()\n",
    "\n",
    "# np.savetxt('train_t.txt', )\n",
    "\n"
   ]
  }
 ],
 "metadata": {
  "interpreter": {
   "hash": "f526d3ea121a389ceedc81414f847f710ab34eaa616dd9262259568a1023dc4b"
  },
  "kernelspec": {
   "display_name": "Python 3.7.6 64-bit ('me': conda)",
   "language": "python",
   "name": "python3"
  },
  "language_info": {
   "codemirror_mode": {
    "name": "ipython",
    "version": 3
   },
   "file_extension": ".py",
   "mimetype": "text/x-python",
   "name": "python",
   "nbconvert_exporter": "python",
   "pygments_lexer": "ipython3",
   "version": "3.7.6"
  },
  "orig_nbformat": 4
 },
 "nbformat": 4,
 "nbformat_minor": 2
}
